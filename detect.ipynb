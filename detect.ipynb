{
 "cells": [
  {
   "cell_type": "code",
   "execution_count": 2,
   "id": "265d4f7c",
   "metadata": {},
   "outputs": [
    {
     "name": "stdout",
     "output_type": "stream",
     "text": [
      "Note: you may need to restart the kernel to use updated packages.\n"
     ]
    }
   ],
   "source": [
    "%pip install -qr requirements.txt "
   ]
  },
  {
   "cell_type": "code",
   "execution_count": 1,
   "id": "72d1103a",
   "metadata": {},
   "outputs": [
    {
     "name": "stdout",
     "output_type": "stream",
     "text": [
      " Volume in drive D is New Volume\n",
      " Volume Serial Number is 4871-A74B\n",
      "\n",
      " Directory of D:\\SAHI internship\\Project 2 (CV)\\Untitled Folder\\yolov5-master\n",
      "\n",
      "10/01/2022  01:00 AM    <DIR>          .\n",
      "09/19/2022  05:48 PM    <DIR>          ..\n",
      "09/19/2022  05:28 PM             3,701 .dockerignore\n",
      "09/19/2022  05:28 PM                75 .gitattributes\n",
      "09/19/2022  05:28 PM    <DIR>          .github\n",
      "09/19/2022  05:28 PM             3,982 .gitignore\n",
      "09/30/2022  04:17 PM    <DIR>          .ipynb_checkpoints\n",
      "09/19/2022  05:28 PM             1,555 .pre-commit-config.yaml\n",
      "10/01/2022  12:20 AM    <DIR>          __pycache__\n",
      "10/01/2022  12:49 AM             5,035 app.py\n",
      "09/19/2022  05:28 PM             7,844 benchmarks.py\n",
      "09/30/2022  04:23 PM        14,731,957 best_weights.pt\n",
      "09/19/2022  05:28 PM    <DIR>          classify\n",
      "09/19/2022  05:28 PM             4,994 CONTRIBUTING.md\n",
      "09/19/2022  05:33 PM    <DIR>          data\n",
      "09/30/2022  04:27 PM             3,613 detect.ipynb\n",
      "09/19/2022  05:28 PM            13,776 detect.py\n",
      "09/19/2022  05:28 PM            29,790 export.py\n",
      "09/19/2022  05:28 PM             7,251 hubconf.py\n",
      "09/19/2022  05:28 PM            35,127 LICENSE\n",
      "10/01/2022  01:00 AM             2,143 main.py\n",
      "09/30/2022  04:24 PM    <DIR>          models\n",
      "09/30/2022  04:16 PM    <DIR>          playingcards\n",
      "09/19/2022  05:28 PM            30,739 README.md\n",
      "09/19/2022  05:28 PM             1,122 requirements.txt\n",
      "09/30/2022  04:25 PM    <DIR>          runs\n",
      "09/19/2022  05:28 PM    <DIR>          segment\n",
      "09/19/2022  05:28 PM             1,686 setup.cfg\n",
      "09/19/2022  05:28 PM            33,407 train.py\n",
      "09/19/2022  05:33 PM            55,256 tutorial.ipynb\n",
      "09/30/2022  04:25 PM    <DIR>          utils\n",
      "09/19/2022  05:28 PM            20,288 val.py\n",
      "              20 File(s)     14,993,341 bytes\n",
      "              12 Dir(s)  168,006,926,336 bytes free\n"
     ]
    }
   ],
   "source": [
    "ls"
   ]
  },
  {
   "cell_type": "code",
   "execution_count": null,
   "id": "78e1d3b3",
   "metadata": {},
   "outputs": [],
   "source": [
    "%cd yolo"
   ]
  },
  {
   "cell_type": "code",
   "execution_count": 3,
   "id": "6758c5c2",
   "metadata": {
    "scrolled": false
   },
   "outputs": [
    {
     "name": "stderr",
     "output_type": "stream",
     "text": [
      "\u001b[34m\u001b[1mdetect_trnb: \u001b[0mweights=['best_weights.pt'], source=0, data=data\\coco128.yaml, imgsz=[640, 640], conf_thres=0.25, iou_thres=0.45, max_det=1000, device=, view_img=False, save_txt=False, save_conf=False, save_crop=False, nosave=False, classes=None, agnostic_nms=False, augment=False, visualize=False, update=False, project=runs\\detect, name=exp, exist_ok=False, line_thickness=3, hide_labels=False, hide_conf=False, half=False, dnn=False, vid_stride=1\n",
      "YOLOv5  2022-9-19 Python-3.9.13 torch-1.12.1+cpu CPU\n",
      "\n",
      "Fusing layers... \n",
      "Model summary: 157 layers, 7153066 parameters, 0 gradients, 16.2 GFLOPs\n",
      "1/1: 0...  Success (inf frames 640x480 at 30.00 FPS)\n",
      "\n",
      "0: 480x640 (no detections), 471.5ms\n",
      "0: 480x640 (no detections), 442.0ms\n",
      "0: 480x640 2 7cs, 423.1ms\n",
      "0: 480x640 2 7hs, 431.8ms\n",
      "0: 480x640 2 9ss, 448.0ms\n",
      "0: 480x640 2 2hs, 406.3ms\n",
      "0: 480x640 (no detections), 1367.8ms\n",
      "0: 480x640 (no detections), 532.8ms\n"
     ]
    }
   ],
   "source": [
    "!python detect_trnb.py --weights best_weights.pt --img 640 --conf 0.25 --source 0"
   ]
  },
  {
   "cell_type": "code",
   "execution_count": 9,
   "id": "28346e80",
   "metadata": {},
   "outputs": [
    {
     "name": "stdout",
     "output_type": "stream",
     "text": [
      "Enter tarneeb: S\n",
      "\n",
      "First Card: 5H\n",
      "Winner:  First\n",
      "\n",
      "Second Card: 6H\n",
      "Winner:  Second\n",
      "\n",
      "Third Card: 7H\n",
      "Winner:  Third\n",
      "\n",
      "Fourth Card: 2H\n",
      "Winner:  Third\n"
     ]
    }
   ],
   "source": [
    "order = ['2','3','4','5','6','7','8','9','10','J','Q','K','A']\n",
    "winner = \"__\"\n",
    "cards_list = set()\n",
    "cards_list = []\n",
    "trnb_list = []\n",
    "\n",
    "def card_number(elem):\n",
    "    return elem[:-1]\n",
    "\n",
    "def card_type(elem):\n",
    "    return elem[-1]\n",
    "\n",
    "def get_index(elem):\n",
    "    return order.index(card_number(elem))\n",
    "\n",
    "trnb = input(\"Enter tarneeb: \")\n",
    "\n",
    "# ---------------- First ----------------------\n",
    "\n",
    "first = input(\"\\nFirst Card: \")\n",
    "cards_list.append(first)\n",
    "\n",
    "if len(cards_list) == 1:\n",
    "    game_type = card_type(first)\n",
    "    winner = 'First'\n",
    "    \n",
    "print(\"Winner: \", winner)\n",
    "\n",
    "# ---------------- Second ----------------------\n",
    "    \n",
    "second = input(\"\\nSecond Card: \")    \n",
    "cards_list.append(second)\n",
    "\n",
    "if len(cards_list) == 2:\n",
    "    \n",
    "    if card_type(second) == game_type:\n",
    "        \n",
    "        if get_index(second) > get_index(first):\n",
    "            winner = \"Second\"\n",
    "            \n",
    "    else:\n",
    "        \n",
    "        if card_type(second).lower() == trnb.lower():\n",
    "            trnb_list.append(second)\n",
    "            \n",
    "            if len(trnb_list) == 1:\n",
    "                winner = \"Second\"\n",
    "            \n",
    "print(\"Winner: \", winner)        \n",
    "\n",
    "# ---------------- Third ----------------------\n",
    "        \n",
    "third = input(\"\\nThird Card: \")\n",
    "cards_list.append(third)\n",
    "\n",
    "if len(cards_list) == 3:\n",
    "    \n",
    "    if len(trnb_list) == 1:\n",
    "        \n",
    "        if card_type(third).lower() == trnb.lower():\n",
    "            trnb_list.append(third)\n",
    "            \n",
    "            if get_index(third) > get_index(trnb_list[0]):\n",
    "                winner ='Third'\n",
    "\n",
    "        \n",
    "    else:\n",
    "\n",
    "        if card_type(third) == game_type:\n",
    "            \n",
    "            if (get_index(third) > get_index(second)) and (get_index(third) > get_index(first)):\n",
    "                winner = \"Third\"        \n",
    "\n",
    "        elif card_type(third).lower() == trnb.lower():\n",
    "            trnb_list.append(third)\n",
    "            winner = 'Third'\n",
    "    \n",
    "\n",
    "print(\"Winner: \", winner)          \n",
    "\n",
    "# ---------------- Fourth ----------------------\n",
    "\n",
    "fourth = input(\"\\nFourth Card: \")\n",
    "cards_list.append(fourth)\n",
    "\n",
    "if len(cards_list) == 4:\n",
    "    \n",
    "    if len(trnb_list) == 1 :\n",
    "        \n",
    "        if card_type(fourth).lower() == trnb.lower():\n",
    "            trnb_list.append(fourth)\n",
    "            \n",
    "            if get_index(fourth) > get_index(trnb_list[0]):\n",
    "                winner = 'Fourth'\n",
    "                \n",
    "    elif len(trnb_list) == 2:\n",
    "        \n",
    "        if card_type(fourth).lower() == trnb.lower():\n",
    "            trnb_list.append(fourth)\n",
    "            \n",
    "            if (get_index(fourth) > get_index(trnb_list[0])) and (get_index(fourth) > get_index(trnb_list[1])):\n",
    "                winner = 'Fourth'\n",
    "                \n",
    "    else:\n",
    "        \n",
    "        if card_type(fourth) == game_type:\n",
    "            \n",
    "            if (get_index(fourth) > get_index(third)) and (get_index(fourth) > get_index(second)) and (get_index(fourth) > get_index(first)):\n",
    "                winner = \"Fourth\"        \n",
    "\n",
    "        elif card_type(fourth).lower() == trnb.lower():\n",
    "            trnb_list.append(fourth)\n",
    "            winner = 'Fourth'            \n",
    "    \n",
    "\n",
    "print(\"Winner: \", winner)"
   ]
  },
  {
   "cell_type": "code",
   "execution_count": null,
   "id": "8ab38d2e",
   "metadata": {},
   "outputs": [],
   "source": []
  }
 ],
 "metadata": {
  "kernelspec": {
   "display_name": "playingcards",
   "language": "python",
   "name": "playingcards"
  },
  "language_info": {
   "codemirror_mode": {
    "name": "ipython",
    "version": 3
   },
   "file_extension": ".py",
   "mimetype": "text/x-python",
   "name": "python",
   "nbconvert_exporter": "python",
   "pygments_lexer": "ipython3",
   "version": "3.9.13"
  }
 },
 "nbformat": 4,
 "nbformat_minor": 5
}
